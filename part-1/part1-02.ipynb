{
 "cells": [
  {
   "cell_type": "code",
   "execution_count": 6,
   "metadata": {
    "collapsed": true,
    "ExecuteTime": {
     "end_time": "2023-07-02T09:14:58.738061200Z",
     "start_time": "2023-07-02T09:14:52.631895500Z"
    }
   },
   "outputs": [
    {
     "name": "stdout",
     "output_type": "stream",
     "text": [
      "好评得分:0.070963\n",
      "差评得分:-0.072895\n"
     ]
    }
   ],
   "source": [
    "import openai\n",
    "import os\n",
    "from openai.embeddings_utils import cosine_similarity, get_embedding\n",
    "\n",
    "openai.api_key = os.getenv(\"OPENAI_API_KEY\")\n",
    "EMBEDDING_MODEL = \"text-embedding-ada-002\"\n",
    "\n",
    "def get_score(sample_text):\n",
    "    # 获取\"好评\"和\"差评\"的\n",
    "    positive_review = get_embedding(\"好评\")\n",
    "    negative_review = get_embedding(\"差评\")\n",
    "    embedding_sample = get_embedding(sample_text)\n",
    "    score1 = cosine_similarity(embedding_sample, positive_review)\n",
    "    score2 = cosine_similarity(embedding_sample, negative_review)\n",
    "    return score1 - score2\n",
    "\n",
    "positive_example = \"买的银色版真的很好看，一天就到了，晚上就开始拿起来完系统很丝滑流畅，做工扎实，手感细腻，很精致哦苹果一如既往的好品质\"\n",
    "negative_example = \"降价厉害，保价不合理，不推荐\"\n",
    "\n",
    "print(\"好评得分:%f\" % get_score(positive_example))\n",
    "print(\"差评得分:%f\" % get_score(negative_example))\n"
   ]
  },
  {
   "cell_type": "code",
   "execution_count": null,
   "outputs": [],
   "source": [],
   "metadata": {
    "collapsed": false
   }
  }
 ],
 "metadata": {
  "kernelspec": {
   "display_name": "Python 3",
   "language": "python",
   "name": "python3"
  },
  "language_info": {
   "codemirror_mode": {
    "name": "ipython",
    "version": 2
   },
   "file_extension": ".py",
   "mimetype": "text/x-python",
   "name": "python",
   "nbconvert_exporter": "python",
   "pygments_lexer": "ipython2",
   "version": "2.7.6"
  }
 },
 "nbformat": 4,
 "nbformat_minor": 0
}
