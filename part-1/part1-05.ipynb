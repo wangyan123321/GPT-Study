{
 "cells": [
  {
   "cell_type": "code",
   "execution_count": null,
   "metadata": {
    "collapsed": true,
    "is_executing": true,
    "ExecuteTime": {
     "start_time": "2023-07-03T14:45:17.992752700Z"
    }
   },
   "outputs": [
    {
     "name": "stderr",
     "output_type": "stream",
     "text": [
      "C:\\Users\\Administrator\\AppData\\Local\\Temp\\ipykernel_4128\\690428304.py:14: ParserWarning: Falling back to the 'python' engine because the 'c' engine does not support regex separators (separators > 1 char and different from '\\s+' are interpreted as regex); you can avoid this warning by specifying engine='python'.\n",
      "  df = pd.read_csv(\"toutiao_cat_data.txt\", sep=\"_!_\", names=['id','code', 'category', 'title', 'keywords'])\n"
     ]
    }
   ],
   "source": [
    "import pandas as pd\n",
    "import tiktoken\n",
    "import openai\n",
    "import os\n",
    "\n",
    "from openai.embeddings_utils import get_embedding,get_embeddings\n",
    "\n",
    "openai.api_key = os.environ.get(\"OPENAI_API_KEY\")\n",
    "\n",
    "embedding_model = \"text-embeddings-ada-002\"\n",
    "embedding_encoding = \"cl100k_base\"\n",
    "max_tokens = 8000\n",
    "\n",
    "df = pd.read_csv(\"toutiao_cat_data.txt\", sep=\"_!_\", names=['id','code', 'category', 'title', 'keywords'])\n",
    "df = df.fillna(\"\")\n",
    "df[\"combined\"] = (\n",
    "    \"标题：\" + df.title.str.strip() + \": 关键字：\" + df.keywords.str.strip() + \": 分类：\" + df.category.str.strip()\n",
    ")\n",
    "\n",
    "for i in range(1,10):\n",
    "    print(df.combined[i] + \"\\n\")\n",
    "\n",
    "encoding = tiktoken.get_encoding(embedding_encoding)\n",
    "\n",
    "df = df[:100]\n",
    "df[\"n_tokens\"] = df.combined.apply(lambda x: len(encoding.encode(x)))\n",
    "df = df[df.n_tokens <= max_tokens]\n",
    "\n",
    "df = df[:100]\n",
    "\n",
    "df.apply(lambda x: print(x.combined + \"\\n\"))\n"
   ]
  },
  {
   "cell_type": "code",
   "execution_count": null,
   "outputs": [],
   "source": [],
   "metadata": {
    "collapsed": false
   }
  }
 ],
 "metadata": {
  "kernelspec": {
   "display_name": "Python 3",
   "language": "python",
   "name": "python3"
  },
  "language_info": {
   "codemirror_mode": {
    "name": "ipython",
    "version": 2
   },
   "file_extension": ".py",
   "mimetype": "text/x-python",
   "name": "python",
   "nbconvert_exporter": "python",
   "pygments_lexer": "ipython2",
   "version": "2.7.6"
  }
 },
 "nbformat": 4,
 "nbformat_minor": 0
}
