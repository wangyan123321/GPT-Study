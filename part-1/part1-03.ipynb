{
 "cells": [
  {
   "cell_type": "code",
   "execution_count": 4,
   "metadata": {
    "collapsed": true,
    "ExecuteTime": {
     "end_time": "2023-07-02T11:52:24.672094600Z",
     "start_time": "2023-07-02T11:51:03.218540600Z"
    }
   },
   "outputs": [
    {
     "name": "stdout",
     "output_type": "stream",
     "text": [
      "\n",
      "【父亲】\n",
      "孩子们，今天要讲的故事叫《大灰狼和小红帽》，一个可爱的小姑娘叫做小红帽，她有一顶红色的小帽子，非常漂亮，一天她接受了一个任务，一开始她很惊恐，可随即她鼓起勇气，为了完成任务，她穿过了村子，穿过了森林，顺利到了她婆婆家，不小心，小红帽被一只大灰狼抓住，幸而有一只慈祥的农夫用锄头救出了小红帽，并且给小红帽一条红绸带做纪念，之后，她完成了这次任务，回到了家里。孩子们，通过这个故事，我想说的是，永远勇敢努力，你们一定会成功的。\n",
      "\n",
      "【老师】\n",
      "孩子们，今天要讲的故事叫《大灰狼和小红帽》，一个勇敢可爱的小女孩叫小红帽，为了照顾生病的婆婆，小红帽承担起了一项艰巨的任务去买一些苹果回来，可小红帽却不小心被一只可怕的大灰狼抓住；幸好有一位农夫用锄头救出了它，后来小红帽完成了自己的任务，并且还有一条红绸带作为纪念。孩子们，通过这个故事，我希望你们要学会勇敢面对挑战，然后努力去完成自己的使命，只有锲而不舍，才能获得真正的胜利。\n"
     ]
    }
   ],
   "source": [
    "import openai\n",
    "import os\n",
    "\n",
    "openai.api_key = os.getenv(\"OPENAI_API_KEY\")\n",
    "COMPLETION_MODEL = \"text-davinci-003\"\n",
    "\n",
    "prompt = \"\"\"\n",
    "请以父亲和老师的口吻，分别跟孩子讲一则大灰狼和小红帽的故事。\n",
    "\"\"\"\n",
    "\n",
    "def get_response(prompt):\n",
    "    response = openai.Completion.create(\n",
    "        engine=COMPLETION_MODEL,\n",
    "        prompt=prompt,\n",
    "        temperature=1.0,\n",
    "        max_tokens=1024,\n",
    "        n=1,\n",
    "        stop=None,\n",
    "    )\n",
    "    return response.choices[0].text\n",
    "\n",
    "print(get_response(prompt))"
   ]
  },
  {
   "cell_type": "code",
   "execution_count": null,
   "outputs": [],
   "source": [],
   "metadata": {
    "collapsed": false
   }
  }
 ],
 "metadata": {
  "kernelspec": {
   "display_name": "Python 3",
   "language": "python",
   "name": "python3"
  },
  "language_info": {
   "codemirror_mode": {
    "name": "ipython",
    "version": 2
   },
   "file_extension": ".py",
   "mimetype": "text/x-python",
   "name": "python",
   "nbconvert_exporter": "python",
   "pygments_lexer": "ipython2",
   "version": "2.7.6"
  }
 },
 "nbformat": 4,
 "nbformat_minor": 0
}
