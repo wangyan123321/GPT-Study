{
 "cells": [
  {
   "cell_type": "code",
   "execution_count": 2,
   "metadata": {
    "collapsed": true,
    "ExecuteTime": {
     "end_time": "2023-07-02T07:57:42.217776300Z",
     "start_time": "2023-07-02T07:57:34.472169900Z"
    }
   },
   "outputs": [
    {
     "name": "stdout",
     "output_type": "stream",
     "text": [
      "\n",
      "1.售卖标题：工厂现货PVC充气青蛙夜市地摊热卖\n",
      "2.商品买点说明：\n",
      "（1）材质安全：采用PVC材质，安全无毒，放心使用。\n",
      "（2）发光效果：夜晚发光，更加有趣。\n",
      "（3）水上玩具：可以在水上玩耍，更加刺激。\n",
      "\n",
      "3.商品可售卖价格：建议售价在20-30元之间。\n"
     ]
    }
   ],
   "source": [
    "import openai\n",
    "import os\n",
    "\n",
    "openai.api_key = os.environ.get(\"OPENAI_API_KEY\")\n",
    "COMPLETION_MODEL = \"text-davinci-003\"\n",
    "\n",
    "prompt = \"\"\"\n",
    "商品描述:工厂现货PVC充气青蛙夜市地摊热卖充气玩具发光蛙儿童水上玩具\n",
    "1.根据商品描述给出商品的一个售卖的标题\n",
    "2.根据商品描述给出三点商品买点说明\n",
    "3.根据商品描述预测商品可售卖的价格\n",
    "\n",
    "将所有描述翻译成中文输出出来\n",
    "\"\"\"\n",
    "\n",
    "\n",
    "def get_response(prompt) :\n",
    "    completions = openai.Completion.create(\n",
    "        engine=COMPLETION_MODEL,\n",
    "        prompt=prompt,\n",
    "        max_tokens=1024,\n",
    "        n=1,\n",
    "        stop=None,\n",
    "        temperature=0.0,\n",
    "    )\n",
    "    message = completions.choices[0].text\n",
    "    return message\n",
    "\n",
    "print(get_response(prompt))"
   ]
  },
  {
   "cell_type": "code",
   "execution_count": null,
   "outputs": [],
   "source": [],
   "metadata": {
    "collapsed": false
   }
  }
 ],
 "metadata": {
  "kernelspec": {
   "display_name": "Python 3",
   "language": "python",
   "name": "python3"
  },
  "language_info": {
   "codemirror_mode": {
    "name": "ipython",
    "version": 2
   },
   "file_extension": ".py",
   "mimetype": "text/x-python",
   "name": "python",
   "nbconvert_exporter": "python",
   "pygments_lexer": "ipython2",
   "version": "2.7.6"
  }
 },
 "nbformat": 4,
 "nbformat_minor": 0
}
